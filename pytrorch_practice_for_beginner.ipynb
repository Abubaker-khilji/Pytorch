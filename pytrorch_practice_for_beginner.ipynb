{
  "nbformat": 4,
  "nbformat_minor": 0,
  "metadata": {
    "colab": {
      "provenance": [],
      "authorship_tag": "ABX9TyOwAdNCDe+kju+on1cnwgjR",
      "include_colab_link": true
    },
    "kernelspec": {
      "name": "python3",
      "display_name": "Python 3"
    },
    "language_info": {
      "name": "python"
    }
  },
  "cells": [
    {
      "cell_type": "markdown",
      "metadata": {
        "id": "view-in-github",
        "colab_type": "text"
      },
      "source": [
        "<a href=\"https://colab.research.google.com/github/Abubaker-khilji/Pytorch/blob/main/pytrorch_practice_for_beginner.ipynb\" target=\"_parent\"><img src=\"https://colab.research.google.com/assets/colab-badge.svg\" alt=\"Open In Colab\"/></a>"
      ]
    },
    {
      "cell_type": "code",
      "execution_count": 3,
      "metadata": {
        "colab": {
          "base_uri": "https://localhost:8080/"
        },
        "id": "kIhwwR2dnLmS",
        "outputId": "30961568-4840-4d89-e595-0af10a73d397"
      },
      "outputs": [
        {
          "output_type": "stream",
          "name": "stdout",
          "text": [
            "False\n"
          ]
        }
      ],
      "source": [
        "import torch\n",
        "print(torch.cuda.is_available())\n"
      ]
    },
    {
      "cell_type": "code",
      "source": [
        "#using empty\n",
        "# 2 rows 3 column\n",
        "a = torch.empty(2,3)"
      ],
      "metadata": {
        "id": "0uK8tRm4nfxO"
      },
      "execution_count": 3,
      "outputs": []
    },
    {
      "cell_type": "code",
      "source": [
        "type(a)"
      ],
      "metadata": {
        "colab": {
          "base_uri": "https://localhost:8080/"
        },
        "id": "u0o6I6pCn0dn",
        "outputId": "b9b0c72b-a14d-460d-d760-603bed8a77d0"
      },
      "execution_count": 4,
      "outputs": [
        {
          "output_type": "execute_result",
          "data": {
            "text/plain": [
              "torch.Tensor"
            ]
          },
          "metadata": {},
          "execution_count": 4
        }
      ]
    },
    {
      "cell_type": "code",
      "source": [
        "torch.zeros(2,3)"
      ],
      "metadata": {
        "colab": {
          "base_uri": "https://localhost:8080/"
        },
        "id": "SxiW-KHZoBIF",
        "outputId": "90301e6c-bcc9-4fda-98cb-25a8631427f1"
      },
      "execution_count": 5,
      "outputs": [
        {
          "output_type": "execute_result",
          "data": {
            "text/plain": [
              "tensor([[0., 0., 0.],\n",
              "        [0., 0., 0.]])"
            ]
          },
          "metadata": {},
          "execution_count": 5
        }
      ]
    },
    {
      "cell_type": "code",
      "source": [
        "torch.ones(2,3)"
      ],
      "metadata": {
        "colab": {
          "base_uri": "https://localhost:8080/"
        },
        "id": "cTbSnS-GoG0k",
        "outputId": "71305e11-00cf-4c15-a843-c631a298e0f0"
      },
      "execution_count": 6,
      "outputs": [
        {
          "output_type": "execute_result",
          "data": {
            "text/plain": [
              "tensor([[1., 1., 1.],\n",
              "        [1., 1., 1.]])"
            ]
          },
          "metadata": {},
          "execution_count": 6
        }
      ]
    },
    {
      "cell_type": "code",
      "source": [
        "torch.rand(2,3)"
      ],
      "metadata": {
        "colab": {
          "base_uri": "https://localhost:8080/"
        },
        "id": "fdAcicG4oLq9",
        "outputId": "5549753e-2927-4fc3-96ed-e56bea2bb8fa"
      },
      "execution_count": 7,
      "outputs": [
        {
          "output_type": "execute_result",
          "data": {
            "text/plain": [
              "tensor([[0.6283, 0.8162, 0.0859],\n",
              "        [0.3312, 0.9254, 0.6723]])"
            ]
          },
          "metadata": {},
          "execution_count": 7
        }
      ]
    },
    {
      "cell_type": "code",
      "source": [
        "torch.manual_seed(100)\n",
        "torch.rand(2,3)"
      ],
      "metadata": {
        "colab": {
          "base_uri": "https://localhost:8080/"
        },
        "id": "b6-MGeCmoRBa",
        "outputId": "5432d2f8-c543-495e-8bea-996e73a4c9a8"
      },
      "execution_count": 10,
      "outputs": [
        {
          "output_type": "execute_result",
          "data": {
            "text/plain": [
              "tensor([[0.1117, 0.8158, 0.2626],\n",
              "        [0.4839, 0.6765, 0.7539]])"
            ]
          },
          "metadata": {},
          "execution_count": 10
        }
      ]
    },
    {
      "cell_type": "code",
      "source": [
        "torch.tensor([[2,3,5],[5,5,9]])"
      ],
      "metadata": {
        "colab": {
          "base_uri": "https://localhost:8080/"
        },
        "id": "B3gpS0HYojYZ",
        "outputId": "f7b840b0-cc77-4a65-edd0-1ed7c655fc98"
      },
      "execution_count": 11,
      "outputs": [
        {
          "output_type": "execute_result",
          "data": {
            "text/plain": [
              "tensor([[2, 3, 5],\n",
              "        [5, 5, 9]])"
            ]
          },
          "metadata": {},
          "execution_count": 11
        }
      ]
    },
    {
      "cell_type": "code",
      "source": [
        "torch.arange(0,10,2)"
      ],
      "metadata": {
        "colab": {
          "base_uri": "https://localhost:8080/"
        },
        "id": "uBNgW9yCo3Wf",
        "outputId": "828ec9b7-6459-4852-8d22-e3da48175483"
      },
      "execution_count": 12,
      "outputs": [
        {
          "output_type": "execute_result",
          "data": {
            "text/plain": [
              "tensor([0, 2, 4, 6, 8])"
            ]
          },
          "metadata": {},
          "execution_count": 12
        }
      ]
    },
    {
      "cell_type": "code",
      "source": [
        "torch.linspace(0,10,5)"
      ],
      "metadata": {
        "colab": {
          "base_uri": "https://localhost:8080/"
        },
        "id": "S65vgbnDpPr_",
        "outputId": "74bf1c55-1ed7-48bf-ba98-501d91839fce"
      },
      "execution_count": 13,
      "outputs": [
        {
          "output_type": "execute_result",
          "data": {
            "text/plain": [
              "tensor([ 0.0000,  2.5000,  5.0000,  7.5000, 10.0000])"
            ]
          },
          "metadata": {},
          "execution_count": 13
        }
      ]
    },
    {
      "cell_type": "code",
      "source": [
        "torch.eye(10)"
      ],
      "metadata": {
        "colab": {
          "base_uri": "https://localhost:8080/"
        },
        "id": "AFw7VO64pT_g",
        "outputId": "b8dc7a5e-d6a5-4b9e-e5c0-cb948a142076"
      },
      "execution_count": 3,
      "outputs": [
        {
          "output_type": "execute_result",
          "data": {
            "text/plain": [
              "tensor([[1., 0., 0., 0., 0., 0., 0., 0., 0., 0.],\n",
              "        [0., 1., 0., 0., 0., 0., 0., 0., 0., 0.],\n",
              "        [0., 0., 1., 0., 0., 0., 0., 0., 0., 0.],\n",
              "        [0., 0., 0., 1., 0., 0., 0., 0., 0., 0.],\n",
              "        [0., 0., 0., 0., 1., 0., 0., 0., 0., 0.],\n",
              "        [0., 0., 0., 0., 0., 1., 0., 0., 0., 0.],\n",
              "        [0., 0., 0., 0., 0., 0., 1., 0., 0., 0.],\n",
              "        [0., 0., 0., 0., 0., 0., 0., 1., 0., 0.],\n",
              "        [0., 0., 0., 0., 0., 0., 0., 0., 1., 0.],\n",
              "        [0., 0., 0., 0., 0., 0., 0., 0., 0., 1.]])"
            ]
          },
          "metadata": {},
          "execution_count": 3
        }
      ]
    },
    {
      "cell_type": "code",
      "source": [
        "torch.full((3,3),5)"
      ],
      "metadata": {
        "colab": {
          "base_uri": "https://localhost:8080/"
        },
        "id": "BFafkqQcpdAy",
        "outputId": "396307f4-35b5-43e6-8bc7-c7572d1a4046"
      },
      "execution_count": 5,
      "outputs": [
        {
          "output_type": "execute_result",
          "data": {
            "text/plain": [
              "tensor([[5, 5, 5],\n",
              "        [5, 5, 5],\n",
              "        [5, 5, 5]])"
            ]
          },
          "metadata": {},
          "execution_count": 5
        }
      ]
    },
    {
      "cell_type": "code",
      "source": [
        ""
      ],
      "metadata": {
        "id": "PLPJyN1kp9fE"
      },
      "execution_count": null,
      "outputs": []
    },
    {
      "cell_type": "markdown",
      "source": [
        "## Tenor Shapes"
      ],
      "metadata": {
        "id": "RIjD0hMir9zx"
      }
    },
    {
      "cell_type": "code",
      "source": [
        "x = torch.tensor([[2,3,4],[5,6,7]])\n",
        "x"
      ],
      "metadata": {
        "colab": {
          "base_uri": "https://localhost:8080/"
        },
        "id": "FxiMfSxjsBED",
        "outputId": "b98fe3ce-4c89-412d-aa20-8f4011737b59"
      },
      "execution_count": 9,
      "outputs": [
        {
          "output_type": "execute_result",
          "data": {
            "text/plain": [
              "tensor([[2, 3, 4],\n",
              "        [5, 6, 7]])"
            ]
          },
          "metadata": {},
          "execution_count": 9
        }
      ]
    },
    {
      "cell_type": "code",
      "source": [
        "x.shape"
      ],
      "metadata": {
        "colab": {
          "base_uri": "https://localhost:8080/"
        },
        "id": "Y5hrO8dYsSft",
        "outputId": "876c693b-126d-403c-8191-559be79b6148"
      },
      "execution_count": 8,
      "outputs": [
        {
          "output_type": "execute_result",
          "data": {
            "text/plain": [
              "torch.Size([2, 3])"
            ]
          },
          "metadata": {},
          "execution_count": 8
        }
      ]
    },
    {
      "cell_type": "code",
      "source": [
        "torch.empty_like(x)"
      ],
      "metadata": {
        "colab": {
          "base_uri": "https://localhost:8080/"
        },
        "id": "McvOxf7GsZ8v",
        "outputId": "5206036d-eb01-46e0-a1fd-f8be145792ad"
      },
      "execution_count": 10,
      "outputs": [
        {
          "output_type": "execute_result",
          "data": {
            "text/plain": [
              "tensor([[5918328182668266028, 3180215811767039343, 8021511407673548810],\n",
              "        [7454092237151499381,  732998722818239861, 8462072531373793312]])"
            ]
          },
          "metadata": {},
          "execution_count": 10
        }
      ]
    },
    {
      "cell_type": "code",
      "source": [
        "torch.zeros_like(x)"
      ],
      "metadata": {
        "colab": {
          "base_uri": "https://localhost:8080/"
        },
        "id": "c8L1sNkssuLt",
        "outputId": "e29c3a0e-bb07-436d-fe9f-632bac5dbc89"
      },
      "execution_count": 11,
      "outputs": [
        {
          "output_type": "execute_result",
          "data": {
            "text/plain": [
              "tensor([[0, 0, 0],\n",
              "        [0, 0, 0]])"
            ]
          },
          "metadata": {},
          "execution_count": 11
        }
      ]
    },
    {
      "cell_type": "code",
      "source": [
        "torch.ones_like(x)"
      ],
      "metadata": {
        "colab": {
          "base_uri": "https://localhost:8080/"
        },
        "id": "Y8G9FqJNsz85",
        "outputId": "69d19009-878b-4be0-d125-95288ec81abf"
      },
      "execution_count": 12,
      "outputs": [
        {
          "output_type": "execute_result",
          "data": {
            "text/plain": [
              "tensor([[1, 1, 1],\n",
              "        [1, 1, 1]])"
            ]
          },
          "metadata": {},
          "execution_count": 12
        }
      ]
    },
    {
      "cell_type": "code",
      "source": [],
      "metadata": {
        "id": "jiacCVR_s3TE"
      },
      "execution_count": null,
      "outputs": []
    },
    {
      "cell_type": "markdown",
      "source": [
        "## Tensor Data Types"
      ],
      "metadata": {
        "id": "-Q4lfaMftJZW"
      }
    },
    {
      "cell_type": "code",
      "source": [
        "#find data type\n",
        "x.dtype"
      ],
      "metadata": {
        "colab": {
          "base_uri": "https://localhost:8080/"
        },
        "id": "O7KGIVubtNSb",
        "outputId": "67b9ca7f-ca82-4d22-b03d-2790d71d953a"
      },
      "execution_count": 13,
      "outputs": [
        {
          "output_type": "execute_result",
          "data": {
            "text/plain": [
              "torch.int64"
            ]
          },
          "metadata": {},
          "execution_count": 13
        }
      ]
    },
    {
      "cell_type": "code",
      "source": [
        "# assign data type while creating tensor\n",
        "torch.tensor([1.0,3.0,4.0],dtype=torch.int32)"
      ],
      "metadata": {
        "colab": {
          "base_uri": "https://localhost:8080/"
        },
        "id": "AwgV9qXStSI7",
        "outputId": "01a36749-8d56-4b51-d65d-4c37df55ac7d"
      },
      "execution_count": 18,
      "outputs": [
        {
          "output_type": "execute_result",
          "data": {
            "text/plain": [
              "tensor([1, 3, 4], dtype=torch.int32)"
            ]
          },
          "metadata": {},
          "execution_count": 18
        }
      ]
    },
    {
      "cell_type": "code",
      "source": [
        "#using .to() change existingtensor data type\n",
        "x.to(torch.float32)\n"
      ],
      "metadata": {
        "colab": {
          "base_uri": "https://localhost:8080/"
        },
        "id": "utjJVi7XtgGv",
        "outputId": "f9f4c072-2eea-4feb-f135-00f1df9ea1b2"
      },
      "execution_count": 19,
      "outputs": [
        {
          "output_type": "execute_result",
          "data": {
            "text/plain": [
              "tensor([[2., 3., 4.],\n",
              "        [5., 6., 7.]])"
            ]
          },
          "metadata": {},
          "execution_count": 19
        }
      ]
    },
    {
      "cell_type": "code",
      "source": [
        "torch.rand(2,31).to(torch.float64)"
      ],
      "metadata": {
        "colab": {
          "base_uri": "https://localhost:8080/"
        },
        "id": "MLl63z8Vt0bK",
        "outputId": "01330f6b-d171-4c45-a0db-d2442c4d85be"
      },
      "execution_count": 20,
      "outputs": [
        {
          "output_type": "execute_result",
          "data": {
            "text/plain": [
              "tensor([[0.3331, 0.7695, 0.7897, 0.1856, 0.4688, 0.3081, 0.0417, 0.1247, 0.6901,\n",
              "         0.9561, 0.9530, 0.3585, 0.8080, 0.0647, 0.3699, 0.8535, 0.2461, 0.5087,\n",
              "         0.7114, 0.3361, 0.7449, 0.4312, 0.7248, 0.2472, 0.3715, 0.7421, 0.3646,\n",
              "         0.7932, 0.0655, 0.5919, 0.6316],\n",
              "        [0.4935, 0.1251, 0.9091, 0.8040, 0.3543, 0.3301, 0.6113, 0.7476, 0.6056,\n",
              "         0.7186, 0.6203, 0.4857, 0.6272, 0.7522, 0.4099, 0.9640, 0.3782, 0.1244,\n",
              "         0.3617, 0.1823, 0.7173, 0.7943, 0.3721, 0.1076, 0.9495, 0.4253, 0.2408,\n",
              "         0.0836, 0.5717, 0.2351, 0.7425]], dtype=torch.float64)"
            ]
          },
          "metadata": {},
          "execution_count": 20
        }
      ]
    },
    {
      "cell_type": "code",
      "source": [
        ""
      ],
      "metadata": {
        "id": "V9MlMZ4Buxp3"
      },
      "execution_count": null,
      "outputs": []
    },
    {
      "cell_type": "markdown",
      "source": [
        "## Mathematical Operation"
      ],
      "metadata": {
        "id": "keJyyj8ou4R4"
      }
    },
    {
      "cell_type": "code",
      "source": [
        "x = torch.rand(2,3)\n",
        "y = torch.rand(2,3)"
      ],
      "metadata": {
        "id": "kvD3lIviu8qX"
      },
      "execution_count": 4,
      "outputs": []
    },
    {
      "cell_type": "code",
      "source": [
        "x+y"
      ],
      "metadata": {
        "colab": {
          "base_uri": "https://localhost:8080/"
        },
        "id": "2uhff9ZevFaj",
        "outputId": "5c2e2f79-05b4-4420-ead2-83bc2e927b51"
      },
      "execution_count": 5,
      "outputs": [
        {
          "output_type": "execute_result",
          "data": {
            "text/plain": [
              "tensor([[0.5924, 0.6395, 1.7741],\n",
              "        [0.4473, 1.1118, 0.5238]])"
            ]
          },
          "metadata": {},
          "execution_count": 5
        }
      ]
    },
    {
      "cell_type": "code",
      "source": [
        "x-y-2"
      ],
      "metadata": {
        "colab": {
          "base_uri": "https://localhost:8080/"
        },
        "id": "8-TKOf31vJvI",
        "outputId": "29661667-3803-4393-f234-5be2e2f9f898"
      },
      "execution_count": 6,
      "outputs": [
        {
          "output_type": "execute_result",
          "data": {
            "text/plain": [
              "tensor([[-2.0008, -1.3816, -1.9428],\n",
              "        [-2.4232, -2.0187, -1.7193]])"
            ]
          },
          "metadata": {},
          "execution_count": 6
        }
      ]
    },
    {
      "cell_type": "code",
      "source": [
        "x**y"
      ],
      "metadata": {
        "colab": {
          "base_uri": "https://localhost:8080/"
        },
        "id": "heJsCgKXvNmQ",
        "outputId": "2732ac8a-9c97-4a23-8c67-dffab81cc92b"
      },
      "execution_count": 7,
      "outputs": [
        {
          "output_type": "execute_result",
          "data": {
            "text/plain": [
              "tensor([[0.6967, 0.9951, 0.9271],\n",
              "        [0.1461, 0.7107, 0.8952]])"
            ]
          },
          "metadata": {},
          "execution_count": 7
        }
      ]
    },
    {
      "cell_type": "code",
      "source": [
        "## Inplace operation\n",
        "x = torch.rand(4,3)\n",
        "y = torch.rand(4,3)\n",
        "\n",
        "print(x ,\"\\n\",y)"
      ],
      "metadata": {
        "colab": {
          "base_uri": "https://localhost:8080/"
        },
        "id": "n1aXQ7iYv8hi",
        "outputId": "a67b62ad-89cd-410d-bb66-ea3b39a481ce"
      },
      "execution_count": 12,
      "outputs": [
        {
          "output_type": "stream",
          "name": "stdout",
          "text": [
            "tensor([[0.2588, 0.6771, 0.0300],\n",
            "        [0.3230, 0.9913, 0.6320],\n",
            "        [0.2808, 0.3318, 0.1780],\n",
            "        [0.7200, 0.0758, 0.6893]]) \n",
            " tensor([[0.3154, 0.2913, 0.3245],\n",
            "        [0.5138, 0.9155, 0.8231],\n",
            "        [0.3447, 0.8621, 0.6878],\n",
            "        [0.1629, 0.4513, 0.7088]])\n"
          ]
        }
      ]
    },
    {
      "cell_type": "code",
      "source": [
        "x.add_(y)"
      ],
      "metadata": {
        "colab": {
          "base_uri": "https://localhost:8080/"
        },
        "id": "4c9SCXoU0Kfb",
        "outputId": "a5464555-125a-4888-a3e5-a91e1045b542"
      },
      "execution_count": 13,
      "outputs": [
        {
          "output_type": "execute_result",
          "data": {
            "text/plain": [
              "tensor([[0.5742, 0.9684, 0.3545],\n",
              "        [0.8369, 1.9067, 1.4551],\n",
              "        [0.6255, 1.1939, 0.8658],\n",
              "        [0.8829, 0.5272, 1.3982]])"
            ]
          },
          "metadata": {},
          "execution_count": 13
        }
      ]
    },
    {
      "cell_type": "code",
      "source": [
        "y"
      ],
      "metadata": {
        "colab": {
          "base_uri": "https://localhost:8080/"
        },
        "id": "MuciZB_U0wv_",
        "outputId": "169fb881-6fef-4457-de7d-9d8a56517bdd"
      },
      "execution_count": 14,
      "outputs": [
        {
          "output_type": "execute_result",
          "data": {
            "text/plain": [
              "tensor([[0.3154, 0.2913, 0.3245],\n",
              "        [0.5138, 0.9155, 0.8231],\n",
              "        [0.3447, 0.8621, 0.6878],\n",
              "        [0.1629, 0.4513, 0.7088]])"
            ]
          },
          "metadata": {},
          "execution_count": 14
        }
      ]
    },
    {
      "cell_type": "code",
      "source": [
        "#copying A tensor\n"
      ],
      "metadata": {
        "id": "NVFocGqb0zFh"
      },
      "execution_count": null,
      "outputs": []
    }
  ]
}